{
 "cells": [
  {
   "cell_type": "code",
   "execution_count": 1,
   "metadata": {},
   "outputs": [],
   "source": [
    "import re"
   ]
  },
  {
   "cell_type": "code",
   "execution_count": 35,
   "metadata": {},
   "outputs": [],
   "source": [
    "with open(\"contigs_test.fasta\", \"r\") as file:\n",
    "    alist = file.read().split()"
   ]
  },
  {
   "cell_type": "code",
   "execution_count": 34,
   "metadata": {},
   "outputs": [],
   "source": [
    "def concatenate_list_data(list):\n",
    "    result = ''\n",
    "    for element in list:\n",
    "        z = re.match(\"(>\\w+)\\W\", element)\n",
    "        if z is None: \n",
    "            result += str(element) \n",
    "        else: \n",
    "            result += '\\n' + str(element) + '\\n'\n",
    "    return result \n",
    "        \n",
    "fasta = concatenate_list_data(alist)"
   ]
  },
  {
   "cell_type": "code",
   "execution_count": 65,
   "metadata": {},
   "outputs": [],
   "source": [
    "blist = fasta.split()\n",
    "\n",
    "odd_i = [] \n",
    "even_i = [] \n",
    "\n",
    "for i in range(0, len(blist)): \n",
    "    if (i % 2 == 0): \n",
    "        even_i.append(blist[i]) \n",
    "    else : \n",
    "        odd_i.append(blist[i]) \n",
    "  \n",
    "clist = odd_i"
   ]
  },
  {
   "cell_type": "code",
   "execution_count": null,
   "metadata": {},
   "outputs": [],
   "source": []
  }
 ],
 "metadata": {
  "kernelspec": {
   "display_name": "Python 3",
   "language": "python",
   "name": "python3"
  },
  "language_info": {
   "codemirror_mode": {
    "name": "ipython",
    "version": 3
   },
   "file_extension": ".py",
   "mimetype": "text/x-python",
   "name": "python",
   "nbconvert_exporter": "python",
   "pygments_lexer": "ipython3",
   "version": "3.7.4"
  }
 },
 "nbformat": 4,
 "nbformat_minor": 2
}
