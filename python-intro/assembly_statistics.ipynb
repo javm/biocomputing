{
 "cells": [
  {
   "cell_type": "code",
   "execution_count": null,
   "metadata": {},
   "outputs": [],
   "source": [
    "import re"
   ]
  },
  {
   "cell_type": "code",
   "execution_count": null,
   "metadata": {},
   "outputs": [],
   "source": [
    "with open(\"contigs_test.fasta\", \"r\") as file:\n",
    "    alist = file.read().split()\n",
    "alist"
   ]
  },
  {
   "cell_type": "code",
   "execution_count": null,
   "metadata": {},
   "outputs": [],
   "source": [
    "with open(\"contigs_test.fasta\", \"r\") as file:\n",
    "    lines = file.readlines()\n",
    "lines\n",
    "header = lines.pop()\n"
   ]
  },
  {
   "cell_type": "code",
   "execution_count": null,
   "metadata": {},
   "outputs": [],
   "source": [
    "import re\n",
    "def concatenate_list_data(list):\n",
    "    result = ''\n",
    "    for element in list:\n",
    "        z = re.match(\"(>\\w+)\\W\", element)\n",
    "        if z is None: \n",
    "            result += str(element) \n",
    "        else: \n",
    "            result += '\\n' + str(element) + '\\n'\n",
    "    return result \n",
    "        \n",
    "fasta = concatenate_list_data(alist)\n",
    "print(fasta)"
   ]
  },
  {
   "cell_type": "code",
   "execution_count": null,
   "metadata": {},
   "outputs": [],
   "source": [
    "blist = fasta.split()\n",
    "\n",
    "odd_i = [] \n",
    "even_i = [] \n",
    "\n",
    "for i in range(0, len(blist)): \n",
    "    if (i % 2 == 0): \n",
    "        even_i.append(blist[i]) \n",
    "    else : \n",
    "        odd_i.append(blist[i]) \n",
    "  \n",
    "clist = odd_i\n",
    "print(len(clist))"
   ]
  },
  {
   "cell_type": "code",
   "execution_count": null,
   "metadata": {},
   "outputs": [],
   "source": [
    "import re\n",
    "import time\n",
    "\n",
    "def concatenate_list_data(list):\n",
    "    current_seq = ''\n",
    "    sequences = []\n",
    "    \n",
    "    for element in list:\n",
    "        z = re.match(\"(>\\w+)\\W\", element)\n",
    "        if z is None: \n",
    "            current_seq +=  str(element) \n",
    "        else:\n",
    "            if current_seq != '':\n",
    "                print(\"Built sequence :\", current_seq)\n",
    "                sequences.append(current_seq)\n",
    "                current_seq = ''\n",
    "           \n",
    "            print('\\nHeader ' + str(element) + '... building next sequence\\n')\n",
    "    \n",
    "    print(\"Built last sequence :\", current_seq)\n",
    "    sequences.append(current_seq)\n",
    "    return sequences \n",
    "        \n",
    "fasta = concatenate_list_data(alist)\n",
    "print(len(fasta))"
   ]
  },
  {
   "cell_type": "code",
   "execution_count": null,
   "metadata": {},
   "outputs": [],
   "source": [
    "# Ordenar lista de secuencias por longitud\n",
    "#total = 0\n",
    "# for s in fasta:\n",
    "#  total = total + (len(s))\n",
    "# media = total / 2\n",
    "# accumulated = 0\n",
    "# for i in range(0...len(fasta)):\n",
    "#    accumulated = accumulated + len(fasta[i])\n",
    "#    if(accumulated >= media):\n",
    "#       break...\n",
    "#       return i\n",
    "# El índice donde se alcanza la media es en la secuencia fasta[i] (recuerda que i empieza de cero)\n",
    "\n",
    "\n"
   ]
  },
  {
   "cell_type": "code",
   "execution_count": null,
   "metadata": {},
   "outputs": [],
   "source": []
  }
 ],
 "metadata": {
  "kernelspec": {
   "display_name": "Python 3",
   "language": "python",
   "name": "python3"
  },
  "language_info": {
   "codemirror_mode": {
    "name": "ipython",
    "version": 3
   },
   "file_extension": ".py",
   "mimetype": "text/x-python",
   "name": "python",
   "nbconvert_exporter": "python",
   "pygments_lexer": "ipython3",
   "version": "3.7.6"
  }
 },
 "nbformat": 4,
 "nbformat_minor": 2
}