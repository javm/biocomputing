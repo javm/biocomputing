{
 "cells": [
  {
   "cell_type": "code",
   "execution_count": 1,
   "metadata": {},
   "outputs": [],
   "source": [
    "l = ['a', 'b', 'c', 'd', 'e']"
   ]
  },
  {
   "cell_type": "code",
   "execution_count": 2,
   "metadata": {},
   "outputs": [
    {
     "data": {
      "text/plain": [
       "'a'"
      ]
     },
     "execution_count": 2,
     "metadata": {},
     "output_type": "execute_result"
    }
   ],
   "source": [
    "l[0]"
   ]
  },
  {
   "cell_type": "code",
   "execution_count": 7,
   "metadata": {},
   "outputs": [
    {
     "name": "stdout",
     "output_type": "stream",
     "text": [
      "True 3\n"
     ]
    }
   ],
   "source": [
    "# Supongáse que queremos buscar el elemento 'c'\n",
    "# Vamos a iterar sobre la lista hasta encontrar 'c'\n",
    "# usando el ciclo while definiendo la condición para iterar. \n",
    "# while se traduce a pensarlo como \"mientras\" se cumpla la condición repite.\n",
    "found = False\n",
    "i = 0\n",
    "while (not found and i < len(l)): # while(True)... repite\n",
    "    current = l[i]\n",
    "    if(current == 'c'):\n",
    "        found = True\n",
    "    i = i + 1\n",
    "    \n",
    "print(found, i)\n",
    "        \n",
    "# i | not found | i < len(l)=5|  l[i]=current \n",
    "# 0 | True      |  True       |  'a'        \n",
    "# 1 | True      | True        |  'b'\n",
    "# 2 | True      | True        |  'c' (Aquí current == l[i] es True, found = True)\n",
    "# 3 | False     | True  .... ya no va entra al while\n",
    "\n",
    "#Ejercicio: escribe una función llamada 'f_index_of' que dado un elemento como argumento me regrese el índice de ese elemento si se encuentra en la list\n",
    "# si no que me regrese -1\n",
    "# Los parámetros de la función serían una lista de caracteres 'l' como en este ejemplo, y un caracter 'c' a buscar en la lista\n",
    "# f_index_of(c, l) y regresa el índice si lo encontró y si no -1\n"
   ]
  },
  {
   "cell_type": "code",
   "execution_count": null,
   "metadata": {},
   "outputs": [],
   "source": []
  }
 ],
 "metadata": {
  "kernelspec": {
   "display_name": "Python 3",
   "language": "python",
   "name": "python3"
  },
  "language_info": {
   "codemirror_mode": {
    "name": "ipython",
    "version": 3
   },
   "file_extension": ".py",
   "mimetype": "text/x-python",
   "name": "python",
   "nbconvert_exporter": "python",
   "pygments_lexer": "ipython3",
   "version": "3.7.6"
  }
 },
 "nbformat": 4,
 "nbformat_minor": 4
}
