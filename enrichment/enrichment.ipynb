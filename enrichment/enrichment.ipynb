{
 "cells": [
  {
   "cell_type": "code",
   "execution_count": 47,
   "metadata": {},
   "outputs": [],
   "source": [
    "import csv\n",
    "import re\n",
    "import sys"
   ]
  },
  {
   "cell_type": "code",
   "execution_count": 48,
   "metadata": {},
   "outputs": [
    {
     "name": "stdout",
     "output_type": "stream",
     "text": [
      "['Virgibacillus_alimentarius_J18T', 'Virgibacillus_chiguensis_CGMCC1_6496', 'Virgibacillus_dokdonensis_21D', 'Virgibacillus_dokdonensis_AK90', 'Virgibacillus_halodenitrificans_1806', 'Virgibacillus_halodenitrificans_2250308Sand', 'Virgibacillus_halodenitrificans_2251225Salt', 'Virgibacillus_halodenitrificans_Bac324', 'Virgibacillus_halodenitrificans_PDB_F2', 'Virgibacillus_halodenitrificans_VKM_B3472D', 'Virgibacillus_indicus_P2_C2', 'Virgibacillus_kapii_JCM_30071', 'Virgibacillus_massiliensis_2251312Sand', 'Virgibacillus_necropolis_LMG19488', 'Virgibacillus_oceani_CGMCC1_12754', 'Virgibacillus_pantothenticus_DSM_26', 'Virgibacillus_profundi_P3_B8', 'Virgibacillus_profundi_P3_H5', 'Virgibacillus_salinus_CGMCC1_10449', 'Virgibacillus_soli_PL205', 'Virgibacillus_sp_6R', 'Virgibacillus_sp_7505', 'Virgibacillus_sp_Bac330', 'Virgibacillus_sp_Bac332', 'Virgibacillus_sp_CM-4_hongkongensis', 'Virgibacillus_sp_MSP4_1', 'Virgibacillus_sp_SK37', 'Virgibacillus_sp_YIM98842', 'Virgibacillus_subterraneus_CGMCC1_7734']\n"
     ]
    }
   ],
   "source": [
    "csv.field_size_limit(sys.maxsize)\n",
    "with open('./data/meta_salino.txt') as salinos_file:\n",
    "    salinos = salinos_file.readlines()\n",
    "    salinos = [s.strip('\\n') for s in salinos]\n",
    "print(salinos)"
   ]
  },
  {
   "cell_type": "code",
   "execution_count": 52,
   "metadata": {},
   "outputs": [
    {
     "name": "stdout",
     "output_type": "stream",
     "text": [
      "['Virgibacillus_soli_PL205', 'Virgibacillus_sp_Bac330', 'Virgibacillus_halodenitrificans_2250308Sand', 'Virgibacillus_halodenitrificans_2250308Sand', 'Virgibacillus_halodenitrificans_JCM12304', 'Virgibacillus_halodenitrificans_JCM12304']\n"
     ]
    }
   ],
   "source": [
    "with open('./data/test.csv', newline='') as test:\n",
    "    testreader = csv.reader(test)\n",
    "    next(testreader)\n",
    "    row_num = 0\n",
    "    species_matches = []\n",
    "    for row in testreader:\n",
    "        matches = []\n",
    "        headers = re.split(\">\", row[4])\n",
    "        headers.pop(0)\n",
    "        #print(headers)\n",
    "        #headers_num = 0;\n",
    "        for h in headers:\n",
    "            species = re.split(\"\\|\", h)\n",
    "            species = species[1].strip('[]')\n",
    "            matches.append(species)\n",
    "            #print(\"Row: \", row_num, species)\n",
    "            #headers_num += 1\n",
    "        species_matches.append(matches)\n",
    "    print(species_matches[2])\n",
    "        #print(headers_num)\n",
    "        #print('\\n')\n",
    "        #row_num += 1"
   ]
  },
  {
   "cell_type": "code",
   "execution_count": null,
   "metadata": {},
   "outputs": [],
   "source": []
  },
  {
   "cell_type": "code",
   "execution_count": null,
   "metadata": {},
   "outputs": [],
   "source": []
  },
  {
   "cell_type": "code",
   "execution_count": null,
   "metadata": {},
   "outputs": [],
   "source": []
  }
 ],
 "metadata": {
  "kernelspec": {
   "display_name": "Python 3",
   "language": "python",
   "name": "python3"
  },
  "language_info": {
   "codemirror_mode": {
    "name": "ipython",
    "version": 3
   },
   "file_extension": ".py",
   "mimetype": "text/x-python",
   "name": "python",
   "nbconvert_exporter": "python",
   "pygments_lexer": "ipython3",
   "version": "3.7.6"
  }
 },
 "nbformat": 4,
 "nbformat_minor": 4
}
