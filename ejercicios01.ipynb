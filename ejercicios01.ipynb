{
 "cells": [
  {
   "cell_type": "markdown",
   "metadata": {},
   "source": [
    "# Laboratorio de Genómica Computacional: Grupo 7075, Semestre 2021-1\n",
    "# Práctica 02 - Herramientas Bioinformáticas (Python)"
   ]
  },
  {
   "cell_type": "markdown",
   "metadata": {},
   "source": [
    "## 2.1 Introducción a Python "
   ]
  },
  {
   "cell_type": "markdown",
   "metadata": {},
   "source": [
    "### *Python es un lenguaje de programación de alto nivel interpretado para programación de propósito general. Creado por Guido van Rossum y lanzado por primera vez en 1991, Python tiene una filosofía de diseño que enfatiza la legibilidad del código, especialmente usando espacios en blanco significativos. Proporciona construcciones que permiten una programación clara tanto a pequeña como a gran escala.*"
   ]
  },
  {
   "cell_type": "markdown",
   "metadata": {},
   "source": [
    "## 2.1.1 Hello Python!"
   ]
  },
  {
   "cell_type": "code",
   "execution_count": null,
   "metadata": {},
   "outputs": [],
   "source": [
    "#!usr/bin/python3.7\n",
    "# Marisol Navarro\n",
    "# Fecha: 10/06/20\n",
    "# Genómica Computacional, Facultad de Ciencias UNAM\n",
    "# script.py\n",
    "\n",
    "print('Hello world')\n"
   ]
  },
  {
   "cell_type": "markdown",
   "metadata": {},
   "source": [
    "## 2.1.2 Operadores y Variables"
   ]
  },
  {
   "cell_type": "markdown",
   "metadata": {},
   "source": [
    "###       OPERDORES                                        \n",
    "\n",
    "### 1. Suma +                             \n",
    "### 2. Resta -                            \n",
    "### 3. Multiplicación *                             \n",
    "### 4. División /                            \n",
    "### 5. Exponentes **                             \n",
    "### 6. Asignación =                            \n",
    "### 7. Módulo % "
   ]
  },
  {
   "cell_type": "code",
   "execution_count": null,
   "metadata": {},
   "outputs": [],
   "source": [
    "5+5"
   ]
  },
  {
   "cell_type": "code",
   "execution_count": 1,
   "metadata": {},
   "outputs": [
    {
     "name": "stdout",
     "output_type": "stream",
     "text": [
      "10\n",
      "10.0\n",
      "0\n",
      "1\n",
      "25\n",
      "3125\n"
     ]
    }
   ],
   "source": [
    "print(5+5)\n",
    "print(50/5)\n",
    "print(10%5)\n",
    "print(11%5)\n",
    "print(5*5)\n",
    "print(5**5)"
   ]
  },
  {
   "cell_type": "code",
   "execution_count": 2,
   "metadata": {},
   "outputs": [
    {
     "name": "stdout",
     "output_type": "stream",
     "text": [
      "abcd\n",
      "ababab\n"
     ]
    }
   ],
   "source": [
    "print('ab'+'cd')\n",
    "# print('ab'*'a')\n",
    "print('ab'*3)"
   ]
  },
  {
   "cell_type": "markdown",
   "metadata": {},
   "source": [
    "### > Asignación de variables."
   ]
  },
  {
   "cell_type": "code",
   "execution_count": 3,
   "metadata": {},
   "outputs": [
    {
     "name": "stdout",
     "output_type": "stream",
     "text": [
      "10\n",
      "17\n"
     ]
    }
   ],
   "source": [
    "diez = 5+5\n",
    "print(diez)\n",
    "operacion = 5+2*6\n",
    "print(operacion)"
   ]
  },
  {
   "cell_type": "markdown",
   "metadata": {},
   "source": [
    "### TIPOS DE VARIABLES\n",
    "\n",
    "### 1. Integer: números enteros --> int\n",
    "### 2. Float: números reales --> float\n",
    "### 3. String: caracteres --> str\n",
    "### 4. Boolean: estados --> bool"
   ]
  },
  {
   "cell_type": "markdown",
   "metadata": {},
   "source": [
    "### > Se puede utilizar la función *type()* para saber el tipo de una variable."
   ]
  },
  {
   "cell_type": "code",
   "execution_count": 4,
   "metadata": {},
   "outputs": [
    {
     "data": {
      "text/plain": [
       "int"
      ]
     },
     "execution_count": 4,
     "metadata": {},
     "output_type": "execute_result"
    }
   ],
   "source": [
    "type(diez)"
   ]
  },
  {
   "cell_type": "code",
   "execution_count": 5,
   "metadata": {},
   "outputs": [
    {
     "name": "stdout",
     "output_type": "stream",
     "text": [
      "<class 'int'>\n",
      "<class 'int'>\n",
      "<class 'float'>\n"
     ]
    }
   ],
   "source": [
    "print(type(diez))\n",
    "print(type(operacion))\n",
    "division = 18/4\n",
    "print(type(division))"
   ]
  },
  {
   "cell_type": "code",
   "execution_count": 6,
   "metadata": {},
   "outputs": [
    {
     "name": "stdout",
     "output_type": "stream",
     "text": [
      "<class 'str'>\n"
     ]
    }
   ],
   "source": [
    "secuencia = 'ATCG'\n",
    "print(type(secuencia))"
   ]
  },
  {
   "cell_type": "code",
   "execution_count": 7,
   "metadata": {},
   "outputs": [
    {
     "name": "stdout",
     "output_type": "stream",
     "text": [
      "<class 'bool'>\n"
     ]
    }
   ],
   "source": [
    "boolean = True\n",
    "print(type(boolean))"
   ]
  },
  {
   "cell_type": "markdown",
   "metadata": {},
   "source": [
    "### > También se pueden convertir los datos a otros tipos."
   ]
  },
  {
   "cell_type": "code",
   "execution_count": 8,
   "metadata": {},
   "outputs": [
    {
     "name": "stdout",
     "output_type": "stream",
     "text": [
      "10\n",
      "<class 'int'>\n"
     ]
    }
   ],
   "source": [
    "diez = 10\n",
    "print(diez)\n",
    "print(type(diez))"
   ]
  },
  {
   "cell_type": "code",
   "execution_count": 9,
   "metadata": {},
   "outputs": [
    {
     "name": "stdout",
     "output_type": "stream",
     "text": [
      "10.0\n",
      "<class 'float'>\n"
     ]
    }
   ],
   "source": [
    "diez = float(diez)\n",
    "print(diez)\n",
    "print(type(diez))"
   ]
  },
  {
   "cell_type": "code",
   "execution_count": 10,
   "metadata": {
    "scrolled": false
   },
   "outputs": [
    {
     "name": "stdout",
     "output_type": "stream",
     "text": [
      "10.0\n",
      "<class 'str'>\n"
     ]
    }
   ],
   "source": [
    "diez = str(diez)\n",
    "print(diez)\n",
    "print(type(diez))"
   ]
  },
  {
   "cell_type": "markdown",
   "metadata": {},
   "source": [
    "### > Más operaciones."
   ]
  },
  {
   "cell_type": "code",
   "execution_count": 11,
   "metadata": {},
   "outputs": [
    {
     "name": "stdout",
     "output_type": "stream",
     "text": [
      "8\n",
      "<class 'int'>\n"
     ]
    }
   ],
   "source": [
    "cinco = 5\n",
    "tres = 3\n",
    "ocho = cinco + tres\n",
    "print(ocho)\n",
    "print(type(ocho))"
   ]
  },
  {
   "cell_type": "code",
   "execution_count": 12,
   "metadata": {},
   "outputs": [
    {
     "ename": "TypeError",
     "evalue": "can only concatenate str (not \"int\") to str",
     "output_type": "error",
     "traceback": [
      "\u001b[0;31m---------------------------------------------------------------------------\u001b[0m",
      "\u001b[0;31mTypeError\u001b[0m                                 Traceback (most recent call last)",
      "\u001b[0;32m<ipython-input-12-ee6279fceddb>\u001b[0m in \u001b[0;36m<module>\u001b[0;34m\u001b[0m\n\u001b[0;32m----> 1\u001b[0;31m \u001b[0mdiciocho\u001b[0m \u001b[0;34m=\u001b[0m \u001b[0mdiez\u001b[0m \u001b[0;34m+\u001b[0m \u001b[0mocho\u001b[0m\u001b[0;34m\u001b[0m\u001b[0;34m\u001b[0m\u001b[0m\n\u001b[0m",
      "\u001b[0;31mTypeError\u001b[0m: can only concatenate str (not \"int\") to str"
     ]
    }
   ],
   "source": [
    "diciocho = diez + ocho"
   ]
  },
  {
   "cell_type": "code",
   "execution_count": 13,
   "metadata": {},
   "outputs": [
    {
     "name": "stdout",
     "output_type": "stream",
     "text": [
      "ATCG10.0\n",
      "<class 'str'>\n"
     ]
    }
   ],
   "source": [
    "quimera = secuencia + diez\n",
    "print(quimera)\n",
    "print(type(quimera))"
   ]
  },
  {
   "cell_type": "markdown",
   "metadata": {},
   "source": [
    "## Ejercicio 2.1_e1"
   ]
  },
  {
   "cell_type": "markdown",
   "metadata": {},
   "source": [
    "### Calcula tu índice de masa corporal. Recuerda que IMC = peso/(altura^2).\n"
   ]
  },
  {
   "cell_type": "code",
   "execution_count": 14,
   "metadata": {},
   "outputs": [
    {
     "name": "stdout",
     "output_type": "stream",
     "text": [
      "22.432302515622492\n"
     ]
    }
   ],
   "source": [
    "altura = 1.58\n",
    "peso = 56\n",
    "imc = peso/(altura**2)\n",
    "print(imc)"
   ]
  },
  {
   "cell_type": "markdown",
   "metadata": {},
   "source": [
    "![title](img/oms.jpg)"
   ]
  },
  {
   "cell_type": "code",
   "execution_count": null,
   "metadata": {},
   "outputs": [],
   "source": []
  }
 ],
 "metadata": {
  "kernelspec": {
   "display_name": "Python 3",
   "language": "python",
   "name": "python3"
  },
  "language_info": {
   "codemirror_mode": {
    "name": "ipython",
    "version": 3
   },
   "file_extension": ".py",
   "mimetype": "text/x-python",
   "name": "python",
   "nbconvert_exporter": "python",
   "pygments_lexer": "ipython3",
   "version": "3.7.4"
  }
 },
 "nbformat": 4,
 "nbformat_minor": 2
}
